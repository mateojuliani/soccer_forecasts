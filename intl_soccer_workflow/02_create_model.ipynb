{
 "cells": [
  {
   "cell_type": "code",
   "execution_count": null,
   "id": "0f9bc27d-42d2-47b8-a2d8-b547ccda08d1",
   "metadata": {},
   "outputs": [],
   "source": [
    "%run \"../Functions/functions_v1.ipynb\""
   ]
  },
  {
   "cell_type": "markdown",
   "id": "97413f64-bbad-4c61-b8cc-07b7f67faa26",
   "metadata": {},
   "source": [
    "# Ingest and clean data"
   ]
  },
  {
   "cell_type": "code",
   "execution_count": null,
   "id": "c15dc8bd-1eba-4570-a1e9-da9c9590bada",
   "metadata": {},
   "outputs": [],
   "source": [
    "#ingest raw data\n",
    "years = [x for x in range(2024, 2025)]\n",
    "\n",
    "new_table = True\n",
    "df_joined_fin = None\n",
    "df_clean_fin = None\n",
    "for year in years:\n",
    "    print(year)\n",
    "\n",
    "    #Get data from year\n",
    "    df_raw = pd.read_csv(f\"../Data/{year}_matches.csv\")\n",
    "\n",
    "    print(df_raw.columns)\n",
    "    #clean scraped data\n",
    "    df_clean = clean_raw_scraped_df(df_raw)\n",
    "\n",
    "\n",
    "    #transform data into each team having a single row\n",
    "    # df_merged = create_one_col_df(df_clean)\n",
    "    # df_joined = get_opp_stats(df_merged)\n",
    "\n",
    "    # #Save down df_joined_fin which will be used from training\n",
    "    # #Save down the clean, pre-transformed data for inference \n",
    "    # if new_table:\n",
    "    #     df_joined_fin = df_joined\n",
    "    #     df_clean_fin = df_clean\n",
    "    #     new_table = False\n",
    "    # else:\n",
    "    #     df_joined_fin = pd.concat([df_joined_fin, df_joined])\n",
    "    #     df_clean_fin = pd.concat([df_clean_fin, df_clean])\n",
    "\n",
    "df_clean"
   ]
  }
 ],
 "metadata": {
  "kernelspec": {
   "display_name": "Python 3 (ipykernel)",
   "language": "python",
   "name": "python3"
  },
  "language_info": {
   "codemirror_mode": {
    "name": "ipython",
    "version": 3
   },
   "file_extension": ".py",
   "mimetype": "text/x-python",
   "name": "python",
   "nbconvert_exporter": "python",
   "pygments_lexer": "ipython3",
   "version": "3.12.4"
  }
 },
 "nbformat": 4,
 "nbformat_minor": 5
}
