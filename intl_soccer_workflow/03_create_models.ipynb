{
 "cells": [
  {
   "cell_type": "code",
   "execution_count": 1,
   "id": "6aa2f4f7-0cd1-4d3d-860b-f1d25ed28ad5",
   "metadata": {},
   "outputs": [],
   "source": [
    "%run \"../Functions/functions_v1.ipynb\""
   ]
  },
  {
   "cell_type": "markdown",
   "id": "3802c68b-9257-4ad0-b87b-4f69a83c446a",
   "metadata": {},
   "source": [
    "# Read in Data"
   ]
  },
  {
   "cell_type": "code",
   "execution_count": null,
   "id": "1b7ca3cb-5a7c-4b9d-8de0-cbdc75ac70bd",
   "metadata": {},
   "outputs": [],
   "source": []
  },
  {
   "cell_type": "markdown",
   "id": "e53ebfa2-ab3f-4f66-bcc8-f7be4af9d803",
   "metadata": {},
   "source": [
    "# Create ELO Average Win Rate Model"
   ]
  },
  {
   "cell_type": "code",
   "execution_count": null,
   "id": "40452481-ffd9-491c-be48-8c2e6594328f",
   "metadata": {},
   "outputs": [],
   "source": [
    "elo = []\n",
    "result = []\n",
    "for x in range(-1200, 1250, 50):\n",
    "    for y in [\"T1\", \"D\", \"T2\"]:\n",
    "        elo.append(x)\n",
    "        result.append(y)\n",
    "\n",
    "df_base = pd.DataFrame()\n",
    "df_base[\"rounded_elo\"] = elo\n",
    "df_base[\"result_class\"] = result\n",
    "df_base"
   ]
  },
  {
   "cell_type": "code",
   "execution_count": null,
   "id": "f1019b3a-7449-4323-b4f8-6d69ed836103",
   "metadata": {},
   "outputs": [],
   "source": [
    "df_joined_fin[\"rounded_elo\"] = df_joined_fin[\"elo_diff\"].apply(apply_elo_50_rounding)\n",
    "df_joined_fin[\"count\"] = 1\n",
    "\n",
    "counts_by_elo = df_joined_fin.groupby(by = [\"rounded_elo\"])[\"count\"].sum().reset_index()\n",
    "counts_by_elo.columns = [\"rounded_elo\", \"total_c\"]\n",
    "results_elo = df_joined_fin.groupby(by = [\"rounded_elo\", \"result_class\"])[\"count\"].sum().reset_index()\n",
    "\n",
    "joined = df_base.merge(results_elo, on = [\"rounded_elo\", \"result_class\"], how = \"left\").merge(counts_by_elo, on = [\"rounded_elo\"], how = \"left\").fillna(0)\n",
    "joined[\"pct\"] = joined[\"count\"] / joined[\"total_c\"]\n",
    "joined[\"result_class\"] = pd.Categorical(joined[\"result_class\"], categories = [\"T1\", \"D\", \"T2\"], ordered = True)\n"
   ]
  },
  {
   "cell_type": "code",
   "execution_count": null,
   "id": "c2449271-31eb-4bca-967d-76dd8c2e82c9",
   "metadata": {},
   "outputs": [],
   "source": [
    "sns.lineplot(data = joined[joined[\"rounded_elo\"] >= 0]\n",
    "             , x = \"rounded_elo\", y = \"pct\", hue = \"result_class\")\n",
    "#sns.lineplot(data = joined, x = \"rounded_elo\", y = \"pct\", hue = \"result\")\n",
    "plt.show()"
   ]
  },
  {
   "cell_type": "code",
   "execution_count": null,
   "id": "a422357e-8e5f-4d0a-be27-173a18c82a8d",
   "metadata": {},
   "outputs": [],
   "source": [
    "joined.to_csv(f'../Models/elo_win_rates.csv', index=False)"
   ]
  }
 ],
 "metadata": {
  "kernelspec": {
   "display_name": "Python 3 (ipykernel)",
   "language": "python",
   "name": "python3"
  },
  "language_info": {
   "codemirror_mode": {
    "name": "ipython",
    "version": 3
   },
   "file_extension": ".py",
   "mimetype": "text/x-python",
   "name": "python",
   "nbconvert_exporter": "python",
   "pygments_lexer": "ipython3",
   "version": "3.12.4"
  }
 },
 "nbformat": 4,
 "nbformat_minor": 5
}
